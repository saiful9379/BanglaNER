{
 "cells": [
  {
   "cell_type": "code",
   "execution_count": 6,
   "id": "8d2c4c67",
   "metadata": {},
   "outputs": [
    {
     "name": "stdout",
     "output_type": "stream",
     "text": [
      "Input: আব্দুর রহিম নামের কাস্টমারকে একশ টাকা বাকি দিলাম\n"
     ]
    },
    {
     "data": {
      "text/html": [
       "<span class=\"tex2jax_ignore\"><div class=\"entities\" style=\"line-height: 2.5; direction: ltr\">আব্দুর রহিম নামের কাস্টমারকে একশ টাকা বাকি দিলাম</div></span>"
      ],
      "text/plain": [
       "<IPython.core.display.HTML object>"
      ]
     },
     "metadata": {},
     "output_type": "display_data"
    },
    {
     "name": "stdout",
     "output_type": "stream",
     "text": [
      "---\n",
      "Input: আফজালুর রহমান নামের এক পরীক্ষার্থী বলেন, সবার হাতে হাতে প্রশ্ন দেখে তিনি ভেবেছিলেন এটি ভুয়া প্রশ্ন।গুড আফটারনুন সিটি ব্যাংক থেকে রিলেশনশিপ ম্যানেজার মাহমুদা বলছি আমি নিশ্চয়ই এই মুহূর্তে এমডি সুমন তালুকদার স্যারের সাথে কথা বলছি\n",
      "Entity: আফজালুর রহমান, Label: PER\n",
      "Entity: মাহমুদা বলছি, Label: PER\n",
      "Entity: সুমন তালুকদার স্যারের, Label: PER\n"
     ]
    },
    {
     "data": {
      "text/html": [
       "<span class=\"tex2jax_ignore\"><div class=\"entities\" style=\"line-height: 2.5; direction: ltr\">\n",
       "<mark class=\"entity\" style=\"background: #ddd; padding: 0.45em 0.6em; margin: 0 0.25em; line-height: 1; border-radius: 0.35em;\">\n",
       "    আফজালুর রহমান\n",
       "    <span style=\"font-size: 0.8em; font-weight: bold; line-height: 1; border-radius: 0.35em; vertical-align: middle; margin-left: 0.5rem\">PER</span>\n",
       "</mark>\n",
       " নামের এক পরীক্ষার্থী বলেন, সবার হাতে হাতে প্রশ্ন দেখে তিনি ভেবেছিলেন এটি ভুয়া প্রশ্ন।গুড আফটারনুন সিটি ব্যাংক থেকে রিলেশনশিপ ম্যানেজার \n",
       "<mark class=\"entity\" style=\"background: #ddd; padding: 0.45em 0.6em; margin: 0 0.25em; line-height: 1; border-radius: 0.35em;\">\n",
       "    মাহমুদা বলছি\n",
       "    <span style=\"font-size: 0.8em; font-weight: bold; line-height: 1; border-radius: 0.35em; vertical-align: middle; margin-left: 0.5rem\">PER</span>\n",
       "</mark>\n",
       " আমি নিশ্চয়ই এই মুহূর্তে এমডি \n",
       "<mark class=\"entity\" style=\"background: #ddd; padding: 0.45em 0.6em; margin: 0 0.25em; line-height: 1; border-radius: 0.35em;\">\n",
       "    সুমন তালুকদার স্যারের\n",
       "    <span style=\"font-size: 0.8em; font-weight: bold; line-height: 1; border-radius: 0.35em; vertical-align: middle; margin-left: 0.5rem\">PER</span>\n",
       "</mark>\n",
       " সাথে কথা বলছি</div></span>"
      ],
      "text/plain": [
       "<IPython.core.display.HTML object>"
      ]
     },
     "metadata": {},
     "output_type": "display_data"
    },
    {
     "name": "stdout",
     "output_type": "stream",
     "text": [
      "---\n"
     ]
    }
   ],
   "source": [
    "# pip install -U spacy\n",
    "import spacy\n",
    "\n",
    "# Load English tokenizer, tagger, parser and NER\n",
    "nlp = spacy.load(\"/media/sayan/hdd/NLP/Hishab_assignment/BanglaNER/models/model-best\")\n",
    "\n",
    "text_list = [\n",
    "    \"আব্দুর রহিম নামের কাস্টমারকে একশ টাকা বাকি দিলাম\",\n",
    "    \"আফজালুর রহমান নামের এক পরীক্ষার্থী বলেন, সবার হাতে হাতে প্রশ্ন দেখে তিনি ভেবেছিলেন এটি ভুয়া প্রশ্ন।\"\n",
    "    \"গুড আফটারনুন সিটি ব্যাংক থেকে রিলেশনশিপ ম্যানেজার মাহমুদা বলছি আমি নিশ্চয়ই এই মুহূর্তে এমডি সুমন তালুকদার স্যারের সাথে কথা বলছি\",\n",
    "    \n",
    "]\n",
    "for text in text_list:\n",
    "    doc = nlp(text)\n",
    "    print(f\"Input: {text}\")\n",
    "    for entity in doc.ents:\n",
    "        print(f\"Entity: {entity.text}, Label: {entity.label_}\")\n",
    "    spacy.displacy.render(doc, style=\"ent\", jupyter=True)\n",
    "    print(\"---\")"
   ]
  },
  {
   "cell_type": "code",
   "execution_count": null,
   "id": "288b48c7-1864-4bf1-94e5-8c009d2aec5d",
   "metadata": {},
   "outputs": [],
   "source": []
  }
 ],
 "metadata": {
  "kernelspec": {
   "display_name": "Python 3 (ipykernel)",
   "language": "python",
   "name": "python3"
  },
  "language_info": {
   "codemirror_mode": {
    "name": "ipython",
    "version": 3
   },
   "file_extension": ".py",
   "mimetype": "text/x-python",
   "name": "python",
   "nbconvert_exporter": "python",
   "pygments_lexer": "ipython3",
   "version": "3.8.17"
  }
 },
 "nbformat": 4,
 "nbformat_minor": 5
}
